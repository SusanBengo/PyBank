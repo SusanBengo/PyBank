{
 "cells": [
  {
   "cell_type": "code",
   "execution_count": 1,
   "id": "4acd5441-9eca-437f-a0e0-c24c95413c8e",
   "metadata": {},
   "outputs": [],
   "source": [
    "from pathlib import Path \n",
    "import csv"
   ]
  },
  {
   "cell_type": "code",
   "execution_count": 2,
   "id": "775c39a6-a524-4a44-9a4b-d8d781d70e3f",
   "metadata": {},
   "outputs": [
    {
     "name": "stdout",
     "output_type": "stream",
     "text": [
      "[('Jan-2010', 867884, 867884), ('Feb-2010', 984655, 116771), ('Mar-2010', 322013, -662642), ('Apr-2010', -69417, -391430), ('May-2010', 310503, 379920)]\n"
     ]
    }
   ],
   "source": [
    "csvpath = ('Resources/budget_data.csv') \n",
    "\n",
    "records = []\n",
    "\n",
    "previous_month = 0\n",
    "\n",
    "with open(csvpath, 'r') as csvfile:\n",
    "    csvreader = csv.reader(csvfile, delimiter = ',')\n",
    "    header = next(csvreader)\n",
    "\n",
    "    for row in csvreader:\n",
    "        record =(row[0], int(row[1]), int(row[1])-previous_month)\n",
    "        records.append(record)\n",
    "        previous_month=int(row[1])\n",
    "print(records[:5])"
   ]
  },
  {
   "cell_type": "code",
   "execution_count": 3,
   "id": "59ad12ba-9ba7-44ae-8d84-1110d6a19cd5",
   "metadata": {},
   "outputs": [],
   "source": [
    "total_months = 0\n",
    "total_amount = 0\n",
    "total_change = 0\n",
    "greatest_increase = 0\n",
    "greatest_increase_month = ''\n",
    "greatest_decrease = 0\n",
    "greatest_decrease_month = ''\n",
    "\n",
    "for record in records:\n",
    "    total_months += 1\n",
    "    total_amount += record[1]\n",
    "\n",
    "    if total_months >1:\n",
    "        total_change += record[2]\n",
    "        if record[2]<0:\n",
    "            if record[2]<greatest_decrease:\n",
    "                greatest_decrease = record[2]\n",
    "                greatest_decrease_month = record[0]\n",
    "    elif record[2]>0:\n",
    "        if record[2]>greatest_increase:\n",
    "            greatest_increase = record[2]\n",
    "            greatest_increase_month = record[0] \n",
    "\n",
    "average_change = round(total_change/total_months-1,2)        \n"
   ]
  },
  {
   "cell_type": "code",
   "execution_count": 6,
   "id": "a6568605-fe97-49fe-9cfe-c4255205bacd",
   "metadata": {},
   "outputs": [
    {
     "name": "stdout",
     "output_type": "stream",
     "text": [
      "Financial Analysis\n",
      "----------------------------\n",
      "Total Months:86\n",
      "Total: $38382578\n",
      "Average Change: $-2289.2\n",
      "Greatest Increase in Profits: Jan-2010 ($867884)\n",
      "Greatest Decrease in Profits: Sep-2013 ($-2196167)\n"
     ]
    }
   ],
   "source": [
    "\n",
    "\n",
    "        print(\"Financial Analysis\")\n",
    "print(\"----------------------------\")\n",
    "print(f\"Total Months:{total_months}\")\n",
    "print(f\"Total: ${total_amount}\")\n",
    "print(f\"Average Change: ${average_change}\")\n",
    "print(f\"Greatest Increase in Profits: {greatest_increase_month} (${greatest_increase})\")\n",
    "print(f\"Greatest Decrease in Profits: {greatest_decrease_month} (${greatest_decrease})\")\n",
    "       "
   ]
  },
  {
   "cell_type": "code",
   "execution_count": null,
   "id": "d08d93f8-fb61-46ea-b3b4-11351ae23eb9",
   "metadata": {},
   "outputs": [],
   "source": []
  }
 ],
 "metadata": {
  "kernelspec": {
   "display_name": "Python 3 (ipykernel)",
   "language": "python",
   "name": "python3"
  },
  "language_info": {
   "codemirror_mode": {
    "name": "ipython",
    "version": 3
   },
   "file_extension": ".py",
   "mimetype": "text/x-python",
   "name": "python",
   "nbconvert_exporter": "python",
   "pygments_lexer": "ipython3",
   "version": "3.7.13"
  }
 },
 "nbformat": 4,
 "nbformat_minor": 5
}
